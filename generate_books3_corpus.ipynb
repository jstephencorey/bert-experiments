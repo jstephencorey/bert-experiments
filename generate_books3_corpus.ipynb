{
  "cells": [
    {
      "cell_type": "markdown",
      "source": [
        "Generating the books3 corpus of 256-length token chunks for BERT training"
      ],
      "metadata": {
        "id": "lcgzBL2gQ9Yc"
      }
    },
    {
      "cell_type": "code",
      "source": [
        "!pip install transformers --quiet"
      ],
      "metadata": {
        "colab": {
          "base_uri": "https://localhost:8080/"
        },
        "id": "eFMp3zsnRlbQ",
        "outputId": "203ce030-6cf2-4a50-d4fe-6e9fd362034a"
      },
      "execution_count": 1,
      "outputs": [
        {
          "output_type": "stream",
          "name": "stdout",
          "text": [
            "\u001b[K     |████████████████████████████████| 5.8 MB 7.9 MB/s \n",
            "\u001b[K     |████████████████████████████████| 182 kB 58.3 MB/s \n",
            "\u001b[K     |████████████████████████████████| 7.6 MB 56.9 MB/s \n",
            "\u001b[?25h"
          ]
        }
      ]
    },
    {
      "cell_type": "code",
      "execution_count": 2,
      "metadata": {
        "colab": {
          "base_uri": "https://localhost:8080/"
        },
        "id": "Qs1uwaH3Pw8d",
        "outputId": "263a50a9-aeb7-4173-97f3-867a423a3ea1"
      },
      "outputs": [
        {
          "output_type": "stream",
          "name": "stdout",
          "text": [
            "Mounted at /content/drive\n"
          ]
        }
      ],
      "source": [
        "import pandas as pd\n",
        "import numpy as np\n",
        "from google.colab import drive\n",
        "import os\n",
        "import random\n",
        "import time\n",
        "import random\n",
        "from transformers import set_seed, AutoTokenizer\n",
        "\n",
        "drive.mount('/content/drive', force_remount=False)\n",
        "random.seed(42)"
      ]
    },
    {
      "cell_type": "code",
      "source": [
        "DATA_DIR = '/content/drive/MyDrive/AI_Data/'\n",
        "bibliotik_train = f'{DATA_DIR}bibliotik_corpus/biblitik_22500_full.gz'\n",
        "bibliotik_val = f'{DATA_DIR}bibliotik_corpus/biblitik_7500_val.gz'\n",
        "\n",
        "MODEL_DIR = '/content/drive/MyDrive/AI_Models/storygpt/'\n",
        "TOKENIZER_DIR = f'{MODEL_DIR}storygpt2tokenizer_ft2/'"
      ],
      "metadata": {
        "id": "QF-cGvnQQsSM"
      },
      "execution_count": 3,
      "outputs": []
    },
    {
      "cell_type": "markdown",
      "source": [
        "##Load Tokenizer"
      ],
      "metadata": {
        "id": "fTDwrFLYS2qw"
      }
    },
    {
      "cell_type": "code",
      "source": [
        "BOS_TOKEN = '<BOS>'\n",
        "EOS_TOKEN = '<EOS>'\n",
        "PAD_TOKEN = '<PAD>'\n",
        "CLS_TOKEN = '[CLS]'\n",
        "MASK_TOKEN = '[MASK]'\n",
        "\n",
        "tokenizer = AutoTokenizer.from_pretrained(TOKENIZER_DIR)\n",
        "special_tokens_dict = {'cls_token':CLS_TOKEN, 'bos_token': BOS_TOKEN, 'eos_token': EOS_TOKEN, 'pad_token': PAD_TOKEN, 'mask_token': MASK_TOKEN}\n",
        "num_added_toks = tokenizer.add_special_tokens(special_tokens_dict)\n",
        "VOCAB_SIZE = len(tokenizer)\n",
        "print(VOCAB_SIZE)"
      ],
      "metadata": {
        "colab": {
          "base_uri": "https://localhost:8080/"
        },
        "id": "eHed5GHUSyIs",
        "outputId": "1d4ca7e7-d755-40e5-bc98-b4e218caed5c"
      },
      "execution_count": 4,
      "outputs": [
        {
          "output_type": "stream",
          "name": "stdout",
          "text": [
            "52005\n"
          ]
        }
      ]
    },
    {
      "cell_type": "markdown",
      "source": [
        "##Get n random token sequences from each story"
      ],
      "metadata": {
        "id": "lv132XTKUc75"
      }
    },
    {
      "cell_type": "markdown",
      "source": [
        "###Load Data from Google Drive"
      ],
      "metadata": {
        "id": "FvQ59N05UHQH"
      }
    },
    {
      "cell_type": "code",
      "source": [
        "TOK_SEQS_PER_STORY = 100\n",
        "SEQ_LEN = 256\n",
        "NUM_PAD_TOKENS = 128\n",
        "READ_CHUNKSIZE = 1\n",
        "all_token_seqs = []"
      ],
      "metadata": {
        "id": "f0jV4hq-UZOM"
      },
      "execution_count": 69,
      "outputs": []
    },
    {
      "cell_type": "code",
      "source": [
        "df_filename = bibliotik_train\n",
        "df = pd.read_csv(df_filename, \n",
        "            index_col=0,\n",
        "            compression={'method': 'gzip', 'compresslevel': 2}, \n",
        "            chunksize=READ_CHUNKSIZE, \n",
        "            iterator=True)"
      ],
      "metadata": {
        "id": "yszy2eltUMbQ"
      },
      "execution_count": 70,
      "outputs": []
    },
    {
      "cell_type": "code",
      "source": [
        "def get_random_subsequence(seq, subsequence_len):\n",
        "    start_index = random.randint(0, len(seq) - subsequence_len)\n",
        "    return seq[start_index:start_index + subsequence_len]"
      ],
      "metadata": {
        "id": "6T4UnpSLVwXo"
      },
      "execution_count": 71,
      "outputs": []
    },
    {
      "cell_type": "code",
      "source": [
        "def get_tokens_from_corpus(df, df_len):\n",
        "  all_token_seqs = []\n",
        "  _avg_time = 0\n",
        "  for i in range(df_len):\n",
        "    print(f\"processings chunk {i}\")\n",
        "    stories = df.get_chunk()['full_text'].to_list()\n",
        "    # if len(story) <= 100:\n",
        "    #   \n",
        "    # stories = stories.\n",
        "    # print(stories)\n",
        "    filtered_stories = []\n",
        "    for story in stories:\n",
        "      # length = min(len(story) //10, 100)\n",
        "      # print(\"STORY_LEN: \",len(story))\n",
        "      _total_story_len = 0\n",
        "      if type(story) != type('hello world'):\n",
        "        print(\"Unexpected value: \", story)\n",
        "        continue\n",
        "      elif len(story) <= 1000: # Roughly the len of 256 tokens?\n",
        "        print(\"skipping small story of len \", len(story))\n",
        "        continue\n",
        "      else:\n",
        "        filtered_stories.append(story)\n",
        "        _total_story_len += len(story)\n",
        "    # print(len(filtered_stories))\n",
        "    start_time = time.time()\n",
        "    tokenized_stories = tokenizer.batch_encode_plus(filtered_stories)\n",
        "    tokenized_stories = tokenized_stories['input_ids']\n",
        "    print(((time.time() - start_time) / _total_story_len)*100000)\n",
        "    for tokenized_story in tokenized_stories:\n",
        "      # print()\n",
        "      story_tokens = [tokenizer.bos_token_id] + tokenized_story + [tokenizer.eos_token_id] + NUM_PAD_TOKENS * [tokenizer.pad_token_id]\n",
        "\n",
        "      for _ in range(TOK_SEQS_PER_STORY):\n",
        "        token_seq = get_random_subsequence(story_tokens, SEQ_LEN)\n",
        "        all_token_seqs.append([token_seq])\n",
        "      \n",
        "    if i >= 1000:\n",
        "      break\n",
        "  return all_token_seqs\n",
        "\n",
        "all_token_seqs = get_tokens_from_corpus(df, 22500)\n",
        "print(len(all_token_seqs))\n",
        "# Chunksize = 100 : 5m 50 s to do first 1000"
      ],
      "metadata": {
        "colab": {
          "base_uri": "https://localhost:8080/",
          "height": 901
        },
        "id": "Pk3ZaE8WU59A",
        "outputId": "caaacbe2-62c2-4a9d-c738-b0ab3d7ad08c"
      },
      "execution_count": 72,
      "outputs": [
        {
          "output_type": "stream",
          "name": "stdout",
          "text": [
            "processings chunk 0\n",
            "11.042702335616369\n",
            "processings chunk 1\n",
            "3.423735142514364\n",
            "processings chunk 2\n",
            "4.442656449266655\n",
            "processings chunk 3\n",
            "9.985095768871078\n",
            "processings chunk 4\n",
            "Unexpected value:  nan\n",
            "1.1405851572444685\n",
            "processings chunk 5\n",
            "6.065896224993468\n",
            "processings chunk 6\n",
            "Unexpected value:  nan\n",
            "Unexpected value:  nan\n",
            "22.704990867133347\n",
            "processings chunk 7\n",
            "Unexpected value:  nan\n",
            "Unexpected value:  nan\n",
            "3.1412876102321112\n",
            "processings chunk 8\n",
            "skipping small story of len  137\n",
            "skipping small story of len  98\n",
            "skipping small story of len  449\n",
            "6.396416273581881\n",
            "processings chunk 9\n",
            "16.683347403765513\n",
            "processings chunk 10\n"
          ]
        },
        {
          "output_type": "error",
          "ename": "KeyboardInterrupt",
          "evalue": "ignored",
          "traceback": [
            "\u001b[0;31m---------------------------------------------------------------------------\u001b[0m",
            "\u001b[0;31mKeyboardInterrupt\u001b[0m                         Traceback (most recent call last)",
            "\u001b[0;32m<ipython-input-72-28e091f139de>\u001b[0m in \u001b[0;36m<module>\u001b[0;34m\u001b[0m\n\u001b[1;32m     40\u001b[0m   \u001b[0;32mreturn\u001b[0m \u001b[0mall_token_seqs\u001b[0m\u001b[0;34m\u001b[0m\u001b[0;34m\u001b[0m\u001b[0m\n\u001b[1;32m     41\u001b[0m \u001b[0;34m\u001b[0m\u001b[0m\n\u001b[0;32m---> 42\u001b[0;31m \u001b[0mall_token_seqs\u001b[0m \u001b[0;34m=\u001b[0m \u001b[0mget_tokens_from_corpus\u001b[0m\u001b[0;34m(\u001b[0m\u001b[0mdf\u001b[0m\u001b[0;34m,\u001b[0m \u001b[0;36m22500\u001b[0m\u001b[0;34m)\u001b[0m\u001b[0;34m\u001b[0m\u001b[0;34m\u001b[0m\u001b[0m\n\u001b[0m\u001b[1;32m     43\u001b[0m \u001b[0mprint\u001b[0m\u001b[0;34m(\u001b[0m\u001b[0mlen\u001b[0m\u001b[0;34m(\u001b[0m\u001b[0mall_token_seqs\u001b[0m\u001b[0;34m)\u001b[0m\u001b[0;34m)\u001b[0m\u001b[0;34m\u001b[0m\u001b[0;34m\u001b[0m\u001b[0m\n",
            "\u001b[0;32m<ipython-input-72-28e091f139de>\u001b[0m in \u001b[0;36mget_tokens_from_corpus\u001b[0;34m(df, df_len)\u001b[0m\n\u001b[1;32m     25\u001b[0m     \u001b[0;31m# print(len(filtered_stories))\u001b[0m\u001b[0;34m\u001b[0m\u001b[0;34m\u001b[0m\u001b[0;34m\u001b[0m\u001b[0m\n\u001b[1;32m     26\u001b[0m     \u001b[0mstart_time\u001b[0m \u001b[0;34m=\u001b[0m \u001b[0mtime\u001b[0m\u001b[0;34m.\u001b[0m\u001b[0mtime\u001b[0m\u001b[0;34m(\u001b[0m\u001b[0;34m)\u001b[0m\u001b[0;34m\u001b[0m\u001b[0;34m\u001b[0m\u001b[0m\n\u001b[0;32m---> 27\u001b[0;31m     \u001b[0mtokenized_stories\u001b[0m \u001b[0;34m=\u001b[0m \u001b[0mtokenizer\u001b[0m\u001b[0;34m.\u001b[0m\u001b[0mbatch_encode_plus\u001b[0m\u001b[0;34m(\u001b[0m\u001b[0mfiltered_stories\u001b[0m\u001b[0;34m)\u001b[0m\u001b[0;34m\u001b[0m\u001b[0;34m\u001b[0m\u001b[0m\n\u001b[0m\u001b[1;32m     28\u001b[0m     \u001b[0mtokenized_stories\u001b[0m \u001b[0;34m=\u001b[0m \u001b[0mtokenized_stories\u001b[0m\u001b[0;34m[\u001b[0m\u001b[0;34m'input_ids'\u001b[0m\u001b[0;34m]\u001b[0m\u001b[0;34m\u001b[0m\u001b[0;34m\u001b[0m\u001b[0m\n\u001b[1;32m     29\u001b[0m     \u001b[0mprint\u001b[0m\u001b[0;34m(\u001b[0m\u001b[0;34m(\u001b[0m\u001b[0;34m(\u001b[0m\u001b[0mtime\u001b[0m\u001b[0;34m.\u001b[0m\u001b[0mtime\u001b[0m\u001b[0;34m(\u001b[0m\u001b[0;34m)\u001b[0m \u001b[0;34m-\u001b[0m \u001b[0mstart_time\u001b[0m\u001b[0;34m)\u001b[0m \u001b[0;34m/\u001b[0m \u001b[0m_total_story_len\u001b[0m\u001b[0;34m)\u001b[0m\u001b[0;34m*\u001b[0m\u001b[0;36m100000\u001b[0m\u001b[0;34m)\u001b[0m\u001b[0;34m\u001b[0m\u001b[0;34m\u001b[0m\u001b[0m\n",
            "\u001b[0;32m/usr/local/lib/python3.8/dist-packages/transformers/tokenization_utils_base.py\u001b[0m in \u001b[0;36mbatch_encode_plus\u001b[0;34m(self, batch_text_or_text_pairs, add_special_tokens, padding, truncation, max_length, stride, is_split_into_words, pad_to_multiple_of, return_tensors, return_token_type_ids, return_attention_mask, return_overflowing_tokens, return_special_tokens_mask, return_offsets_mapping, return_length, verbose, **kwargs)\u001b[0m\n\u001b[1;32m   2795\u001b[0m         )\n\u001b[1;32m   2796\u001b[0m \u001b[0;34m\u001b[0m\u001b[0m\n\u001b[0;32m-> 2797\u001b[0;31m         return self._batch_encode_plus(\n\u001b[0m\u001b[1;32m   2798\u001b[0m             \u001b[0mbatch_text_or_text_pairs\u001b[0m\u001b[0;34m=\u001b[0m\u001b[0mbatch_text_or_text_pairs\u001b[0m\u001b[0;34m,\u001b[0m\u001b[0;34m\u001b[0m\u001b[0;34m\u001b[0m\u001b[0m\n\u001b[1;32m   2799\u001b[0m             \u001b[0madd_special_tokens\u001b[0m\u001b[0;34m=\u001b[0m\u001b[0madd_special_tokens\u001b[0m\u001b[0;34m,\u001b[0m\u001b[0;34m\u001b[0m\u001b[0;34m\u001b[0m\u001b[0m\n",
            "\u001b[0;32m/usr/local/lib/python3.8/dist-packages/transformers/models/gpt2/tokenization_gpt2_fast.py\u001b[0m in \u001b[0;36m_batch_encode_plus\u001b[0;34m(self, *args, **kwargs)\u001b[0m\n\u001b[1;32m    164\u001b[0m         )\n\u001b[1;32m    165\u001b[0m \u001b[0;34m\u001b[0m\u001b[0m\n\u001b[0;32m--> 166\u001b[0;31m         \u001b[0;32mreturn\u001b[0m \u001b[0msuper\u001b[0m\u001b[0;34m(\u001b[0m\u001b[0;34m)\u001b[0m\u001b[0;34m.\u001b[0m\u001b[0m_batch_encode_plus\u001b[0m\u001b[0;34m(\u001b[0m\u001b[0;34m*\u001b[0m\u001b[0margs\u001b[0m\u001b[0;34m,\u001b[0m \u001b[0;34m**\u001b[0m\u001b[0mkwargs\u001b[0m\u001b[0;34m)\u001b[0m\u001b[0;34m\u001b[0m\u001b[0;34m\u001b[0m\u001b[0m\n\u001b[0m\u001b[1;32m    167\u001b[0m \u001b[0;34m\u001b[0m\u001b[0m\n\u001b[1;32m    168\u001b[0m     \u001b[0;32mdef\u001b[0m \u001b[0m_encode_plus\u001b[0m\u001b[0;34m(\u001b[0m\u001b[0mself\u001b[0m\u001b[0;34m,\u001b[0m \u001b[0;34m*\u001b[0m\u001b[0margs\u001b[0m\u001b[0;34m,\u001b[0m \u001b[0;34m**\u001b[0m\u001b[0mkwargs\u001b[0m\u001b[0;34m)\u001b[0m \u001b[0;34m->\u001b[0m \u001b[0mBatchEncoding\u001b[0m\u001b[0;34m:\u001b[0m\u001b[0;34m\u001b[0m\u001b[0;34m\u001b[0m\u001b[0m\n",
            "\u001b[0;32m/usr/local/lib/python3.8/dist-packages/transformers/tokenization_utils_fast.py\u001b[0m in \u001b[0;36m_batch_encode_plus\u001b[0;34m(self, batch_text_or_text_pairs, add_special_tokens, padding_strategy, truncation_strategy, max_length, stride, is_split_into_words, pad_to_multiple_of, return_tensors, return_token_type_ids, return_attention_mask, return_overflowing_tokens, return_special_tokens_mask, return_offsets_mapping, return_length, verbose)\u001b[0m\n\u001b[1;32m    427\u001b[0m         )\n\u001b[1;32m    428\u001b[0m \u001b[0;34m\u001b[0m\u001b[0m\n\u001b[0;32m--> 429\u001b[0;31m         encodings = self._tokenizer.encode_batch(\n\u001b[0m\u001b[1;32m    430\u001b[0m             \u001b[0mbatch_text_or_text_pairs\u001b[0m\u001b[0;34m,\u001b[0m\u001b[0;34m\u001b[0m\u001b[0;34m\u001b[0m\u001b[0m\n\u001b[1;32m    431\u001b[0m             \u001b[0madd_special_tokens\u001b[0m\u001b[0;34m=\u001b[0m\u001b[0madd_special_tokens\u001b[0m\u001b[0;34m,\u001b[0m\u001b[0;34m\u001b[0m\u001b[0;34m\u001b[0m\u001b[0m\n",
            "\u001b[0;31mKeyboardInterrupt\u001b[0m: "
          ]
        }
      ]
    },
    {
      "cell_type": "code",
      "source": [
        "# print(all_token_seqs[0:10])\n",
        "random.shuffle(all_token_seqs)\n",
        "seqs_df = pd.DataFrame(all_token_seqs, columns=['token_seqs'])\n",
        "seqs_df.head()"
      ],
      "metadata": {
        "id": "Z2ZyqB4di92A",
        "outputId": "a3749fa6-bfe3-4021-b311-374ee39349f3",
        "colab": {
          "base_uri": "https://localhost:8080/",
          "height": 206
        }
      },
      "execution_count": 34,
      "outputs": [
        {
          "output_type": "execute_result",
          "data": {
            "text/plain": [
              "                                          token_seqs\n",
              "0  [797, 424, 658, 4090, 486, 479, 288, 261, 2883...\n",
              "1  [16369, 288, 3850, 287, 538, 946, 12, 452, 299...\n",
              "2  [362, 825, 287, 261, 3321, 710, 14, 1583, 303,...\n",
              "3  [12, 480, 2523, 1935, 259, 900, 26, 5432, 290,...\n",
              "4  [259, 2198, 14, 7480, 370, 539, 2168, 12, 299,..."
            ],
            "text/html": [
              "\n",
              "  <div id=\"df-ea0fcd7c-313f-488c-a5e9-9a96ee741c36\">\n",
              "    <div class=\"colab-df-container\">\n",
              "      <div>\n",
              "<style scoped>\n",
              "    .dataframe tbody tr th:only-of-type {\n",
              "        vertical-align: middle;\n",
              "    }\n",
              "\n",
              "    .dataframe tbody tr th {\n",
              "        vertical-align: top;\n",
              "    }\n",
              "\n",
              "    .dataframe thead th {\n",
              "        text-align: right;\n",
              "    }\n",
              "</style>\n",
              "<table border=\"1\" class=\"dataframe\">\n",
              "  <thead>\n",
              "    <tr style=\"text-align: right;\">\n",
              "      <th></th>\n",
              "      <th>token_seqs</th>\n",
              "    </tr>\n",
              "  </thead>\n",
              "  <tbody>\n",
              "    <tr>\n",
              "      <th>0</th>\n",
              "      <td>[797, 424, 658, 4090, 486, 479, 288, 261, 2883...</td>\n",
              "    </tr>\n",
              "    <tr>\n",
              "      <th>1</th>\n",
              "      <td>[16369, 288, 3850, 287, 538, 946, 12, 452, 299...</td>\n",
              "    </tr>\n",
              "    <tr>\n",
              "      <th>2</th>\n",
              "      <td>[362, 825, 287, 261, 3321, 710, 14, 1583, 303,...</td>\n",
              "    </tr>\n",
              "    <tr>\n",
              "      <th>3</th>\n",
              "      <td>[12, 480, 2523, 1935, 259, 900, 26, 5432, 290,...</td>\n",
              "    </tr>\n",
              "    <tr>\n",
              "      <th>4</th>\n",
              "      <td>[259, 2198, 14, 7480, 370, 539, 2168, 12, 299,...</td>\n",
              "    </tr>\n",
              "  </tbody>\n",
              "</table>\n",
              "</div>\n",
              "      <button class=\"colab-df-convert\" onclick=\"convertToInteractive('df-ea0fcd7c-313f-488c-a5e9-9a96ee741c36')\"\n",
              "              title=\"Convert this dataframe to an interactive table.\"\n",
              "              style=\"display:none;\">\n",
              "        \n",
              "  <svg xmlns=\"http://www.w3.org/2000/svg\" height=\"24px\"viewBox=\"0 0 24 24\"\n",
              "       width=\"24px\">\n",
              "    <path d=\"M0 0h24v24H0V0z\" fill=\"none\"/>\n",
              "    <path d=\"M18.56 5.44l.94 2.06.94-2.06 2.06-.94-2.06-.94-.94-2.06-.94 2.06-2.06.94zm-11 1L8.5 8.5l.94-2.06 2.06-.94-2.06-.94L8.5 2.5l-.94 2.06-2.06.94zm10 10l.94 2.06.94-2.06 2.06-.94-2.06-.94-.94-2.06-.94 2.06-2.06.94z\"/><path d=\"M17.41 7.96l-1.37-1.37c-.4-.4-.92-.59-1.43-.59-.52 0-1.04.2-1.43.59L10.3 9.45l-7.72 7.72c-.78.78-.78 2.05 0 2.83L4 21.41c.39.39.9.59 1.41.59.51 0 1.02-.2 1.41-.59l7.78-7.78 2.81-2.81c.8-.78.8-2.07 0-2.86zM5.41 20L4 18.59l7.72-7.72 1.47 1.35L5.41 20z\"/>\n",
              "  </svg>\n",
              "      </button>\n",
              "      \n",
              "  <style>\n",
              "    .colab-df-container {\n",
              "      display:flex;\n",
              "      flex-wrap:wrap;\n",
              "      gap: 12px;\n",
              "    }\n",
              "\n",
              "    .colab-df-convert {\n",
              "      background-color: #E8F0FE;\n",
              "      border: none;\n",
              "      border-radius: 50%;\n",
              "      cursor: pointer;\n",
              "      display: none;\n",
              "      fill: #1967D2;\n",
              "      height: 32px;\n",
              "      padding: 0 0 0 0;\n",
              "      width: 32px;\n",
              "    }\n",
              "\n",
              "    .colab-df-convert:hover {\n",
              "      background-color: #E2EBFA;\n",
              "      box-shadow: 0px 1px 2px rgba(60, 64, 67, 0.3), 0px 1px 3px 1px rgba(60, 64, 67, 0.15);\n",
              "      fill: #174EA6;\n",
              "    }\n",
              "\n",
              "    [theme=dark] .colab-df-convert {\n",
              "      background-color: #3B4455;\n",
              "      fill: #D2E3FC;\n",
              "    }\n",
              "\n",
              "    [theme=dark] .colab-df-convert:hover {\n",
              "      background-color: #434B5C;\n",
              "      box-shadow: 0px 1px 3px 1px rgba(0, 0, 0, 0.15);\n",
              "      filter: drop-shadow(0px 1px 2px rgba(0, 0, 0, 0.3));\n",
              "      fill: #FFFFFF;\n",
              "    }\n",
              "  </style>\n",
              "\n",
              "      <script>\n",
              "        const buttonEl =\n",
              "          document.querySelector('#df-ea0fcd7c-313f-488c-a5e9-9a96ee741c36 button.colab-df-convert');\n",
              "        buttonEl.style.display =\n",
              "          google.colab.kernel.accessAllowed ? 'block' : 'none';\n",
              "\n",
              "        async function convertToInteractive(key) {\n",
              "          const element = document.querySelector('#df-ea0fcd7c-313f-488c-a5e9-9a96ee741c36');\n",
              "          const dataTable =\n",
              "            await google.colab.kernel.invokeFunction('convertToInteractive',\n",
              "                                                     [key], {});\n",
              "          if (!dataTable) return;\n",
              "\n",
              "          const docLinkHtml = 'Like what you see? Visit the ' +\n",
              "            '<a target=\"_blank\" href=https://colab.research.google.com/notebooks/data_table.ipynb>data table notebook</a>'\n",
              "            + ' to learn more about interactive tables.';\n",
              "          element.innerHTML = '';\n",
              "          dataTable['output_type'] = 'display_data';\n",
              "          await google.colab.output.renderOutput(dataTable, element);\n",
              "          const docLink = document.createElement('div');\n",
              "          docLink.innerHTML = docLinkHtml;\n",
              "          element.appendChild(docLink);\n",
              "        }\n",
              "      </script>\n",
              "    </div>\n",
              "  </div>\n",
              "  "
            ]
          },
          "metadata": {},
          "execution_count": 34
        }
      ]
    },
    {
      "cell_type": "code",
      "source": [
        "seqs_df.to_csv(f'{DATA_DIR}bibliotik_corpus/biblitik_22500_tokenized.gz', compression={'method': 'gzip', 'compresslevel': 2},)"
      ],
      "metadata": {
        "id": "k1KNE8srkURh"
      },
      "execution_count": 35,
      "outputs": []
    },
    {
      "cell_type": "code",
      "source": [
        "class DfDataLoader():\n",
        " \n",
        "  def __init__(self, df_filename, tokenizer, batch_size, df_file_len, num_seqs_per_story, context_len):\n",
        "    self.df_filename = df_filename\n",
        "    self.tokenizer = tokenizer\n",
        "    self.batch_size = batch_size\n",
        "    self.total_df_len = df_file_len\n",
        "    self.remaining_df_items = df_file_len\n",
        "    self.num_seqs_per_story = num_seqs_per_story\n",
        "    self.context_len = context_len\n",
        "    self.DF_BUFFER = 100\n",
        "    self.all_subsequences_from_story = []\n",
        "    self.df = self.init_df()\n",
        "\n",
        "\n",
        "  def init_df(self):\n",
        "     self.remaining_df_items = self.total_df_len\n",
        "     df = pd.read_csv(self.df_filename, \n",
        "                 index_col=0,\n",
        "                 compression={'method': 'gzip', 'compresslevel': 2}, \n",
        "                 chunksize=1, \n",
        "                 iterator=True)\n",
        "     return df\n",
        "\n",
        "  def _get_random_subsequence(self, seq, subsequence_len):\n",
        "    start_index = random.randint(0, len(seq) - subsequence_len)\n",
        "    return seq[start_index:start_index + subsequence_len]\n",
        "\n",
        "  def has_next_batch(self):\n",
        "    return self.remaining_df_items > self.DF_BUFFER\n",
        "  \n",
        "  def get_tokens(self):\n",
        "    # tokens = []\n",
        "    while True:\n",
        "      try:\n",
        "        chunk = self.df.get_chunk()\n",
        "        self.remaining_df_items -= 1\n",
        "      except:\n",
        "        self.remaining_df_items = 0\n",
        "        raise Exception(\"Next batch\")\n",
        "          \n",
        "      text = str(chunk['full_text'][0])\n",
        "      tokens = tokenizer.encode(text)\n",
        "      tokens = [tokenizer.bos_token_id] + tokens + [tokenizer.eos_token_id] + self.context_len * [tokenizer.pad_token_id]\n",
        "      # print(len(tokens))\n",
        "      if len(tokens) <= self.context_len:\n",
        "        print(\"Story too short, retrying now\")\n",
        "        continue\n",
        "      else:\n",
        "        return tokens\n",
        "\n",
        "  def get_next_batch(self):\n",
        "    batch = []\n",
        "    while len(batch) < self.batch_size:\n",
        "      if len(self.all_subsequences_from_story) == 0:\n",
        "        tokens = self.get_tokens()\n",
        "        # tokens = tokens + [tokenizer.pad_token_id] * self.context_len\n",
        "\n",
        "        for _ in range(self.num_seqs_per_story):\n",
        "          subseq = self._get_random_subsequence(tokens, self.context_len-1)\n",
        "          subseq = [tokenizer.cls_token_id] + subseq\n",
        "          self.all_subsequences_from_story.append(subseq)\n",
        "      subseq = self.all_subsequences_from_story.pop()\n",
        "      batch.append(subseq)\n",
        "    if len(batch) > self.batch_size:\n",
        "      batch = batch[0:self.batch_size]\n",
        "    return batch\n",
        "\n",
        "\n",
        "train_dataloader = SingleStoryBertAssistDataLoader(\\\n",
        "                                   text_filename=atlas_shrugged_filename,\n",
        "                                   tokenizer=tokenizer,\n",
        "                                   batch_size = config['batch_size'],\n",
        "                                   context_len=config['context_len'],\n",
        "                                   bert_model = bert_model,\n",
        "                                   mask_percentage = config['bert_mask_percentage']\n",
        "                                    )"
      ],
      "metadata": {
        "id": "IlITDgaES43L"
      },
      "execution_count": null,
      "outputs": []
    }
  ],
  "metadata": {
    "kernelspec": {
      "display_name": "ai",
      "language": "python",
      "name": "python3"
    },
    "language_info": {
      "name": "python",
      "version": "3.9.12 (main, Apr  4 2022, 05:22:27) [MSC v.1916 64 bit (AMD64)]"
    },
    "orig_nbformat": 4,
    "vscode": {
      "interpreter": {
        "hash": "e5cdae407986fbcf9f40eb4f2caf8136385e94546bed8444298080b1cba2358b"
      }
    },
    "colab": {
      "provenance": []
    }
  },
  "nbformat": 4,
  "nbformat_minor": 0
}
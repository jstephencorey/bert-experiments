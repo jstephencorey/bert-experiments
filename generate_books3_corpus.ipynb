{
  "cells": [
    {
      "cell_type": "markdown",
      "metadata": {
        "id": "view-in-github",
        "colab_type": "text"
      },
      "source": [
        "<a href=\"https://colab.research.google.com/github/jstephencorey/bert-experiments/blob/main/generate_books3_corpus.ipynb\" target=\"_parent\"><img src=\"https://colab.research.google.com/assets/colab-badge.svg\" alt=\"Open In Colab\"/></a>"
      ]
    },
    {
      "cell_type": "markdown",
      "source": [
        "Generating the books3 corpus of 256-length token chunks for BERT training"
      ],
      "metadata": {
        "id": "lcgzBL2gQ9Yc"
      }
    },
    {
      "cell_type": "code",
      "source": [
        "!pip install transformers --quiet"
      ],
      "metadata": {
        "id": "eFMp3zsnRlbQ"
      },
      "execution_count": 2,
      "outputs": []
    },
    {
      "cell_type": "code",
      "execution_count": 3,
      "metadata": {
        "colab": {
          "base_uri": "https://localhost:8080/"
        },
        "id": "Qs1uwaH3Pw8d",
        "outputId": "326637fc-4d36-40ad-cc98-7d7ea4e99e6b"
      },
      "outputs": [
        {
          "output_type": "stream",
          "name": "stdout",
          "text": [
            "Drive already mounted at /content/drive; to attempt to forcibly remount, call drive.mount(\"/content/drive\", force_remount=True).\n"
          ]
        }
      ],
      "source": [
        "import pandas as pd\n",
        "import numpy as np\n",
        "from google.colab import drive\n",
        "import os\n",
        "import random\n",
        "import time\n",
        "import random\n",
        "from transformers import set_seed, AutoTokenizer\n",
        "\n",
        "drive.mount('/content/drive', force_remount=False)"
      ]
    },
    {
      "cell_type": "code",
      "source": [
        "DATA_DIR = '/content/drive/MyDrive/AI_Data/'\n",
        "bibliotik_train = f'{DATA_DIR}bibliotik_corpus/biblitik_22500_full.gz'\n",
        "bibliotik_val = f'{DATA_DIR}bibliotik_corpus/biblitik_7500_val.gz'\n",
        "\n",
        "MODEL_DIR = '/content/drive/MyDrive/AI_Models/storygpt/'\n",
        "TOKENIZER_DIR = f'{MODEL_DIR}storygpt2tokenizer_ft2/'"
      ],
      "metadata": {
        "id": "QF-cGvnQQsSM"
      },
      "execution_count": 4,
      "outputs": []
    },
    {
      "cell_type": "markdown",
      "source": [
        "##Load Tokenizer"
      ],
      "metadata": {
        "id": "fTDwrFLYS2qw"
      }
    },
    {
      "cell_type": "code",
      "source": [
        "BOS_TOKEN = '<BOS>'\n",
        "EOS_TOKEN = '<EOS>'\n",
        "PAD_TOKEN = '<PAD>'\n",
        "CLS_TOKEN = '[CLS]'\n",
        "MASK_TOKEN = '[MASK]'\n",
        "\n",
        "tokenizer = AutoTokenizer.from_pretrained(TOKENIZER_DIR)\n",
        "special_tokens_dict = {'cls_token':CLS_TOKEN, 'bos_token': BOS_TOKEN, 'eos_token': EOS_TOKEN, 'pad_token': PAD_TOKEN, 'mask_token': MASK_TOKEN}\n",
        "num_added_toks = tokenizer.add_special_tokens(special_tokens_dict)\n",
        "VOCAB_SIZE = len(tokenizer)\n",
        "print(VOCAB_SIZE)"
      ],
      "metadata": {
        "colab": {
          "base_uri": "https://localhost:8080/"
        },
        "id": "eHed5GHUSyIs",
        "outputId": "3bcaf10f-7a8c-495f-867c-b376431b3716"
      },
      "execution_count": 5,
      "outputs": [
        {
          "output_type": "stream",
          "name": "stdout",
          "text": [
            "52005\n"
          ]
        }
      ]
    },
    {
      "cell_type": "markdown",
      "source": [
        "##Get n random token sequences from each story"
      ],
      "metadata": {
        "id": "lv132XTKUc75"
      }
    },
    {
      "cell_type": "markdown",
      "source": [
        "###Load Data from Google Drive"
      ],
      "metadata": {
        "id": "FvQ59N05UHQH"
      }
    },
    {
      "cell_type": "code",
      "source": [
        "TOK_SEQS_PER_STORY = 256\n",
        "SEQ_LEN = 256\n",
        "NUM_PAD_TOKENS = 128\n",
        "READ_CHUNKSIZE = 128\n",
        "FILTER_OUT_SHORTER_THAN = 1200\n",
        "all_token_seqs = []\n",
        "random.seed(42)"
      ],
      "metadata": {
        "id": "f0jV4hq-UZOM"
      },
      "execution_count": 6,
      "outputs": []
    },
    {
      "cell_type": "code",
      "source": [
        "df_filename = bibliotik_train\n",
        "df = pd.read_csv(df_filename, \n",
        "            index_col=0,\n",
        "            compression={'method': 'gzip', 'compresslevel': 2}, \n",
        "            chunksize=READ_CHUNKSIZE, \n",
        "            iterator=True)"
      ],
      "metadata": {
        "id": "yszy2eltUMbQ"
      },
      "execution_count": 7,
      "outputs": []
    },
    {
      "cell_type": "code",
      "source": [
        "def get_random_subsequence(seq, subsequence_len):\n",
        "    start_index = random.randint(0, len(seq) - subsequence_len)\n",
        "    return seq[start_index:start_index + subsequence_len]"
      ],
      "metadata": {
        "id": "6T4UnpSLVwXo"
      },
      "execution_count": 8,
      "outputs": []
    },
    {
      "cell_type": "code",
      "source": [
        "def get_tokens_from_corpus(df, df_len):\n",
        "  all_token_seqs = []\n",
        "  _avg_time = 0\n",
        "  for i in range(df_len // READ_CHUNKSIZE):\n",
        "    print(f\"processings chunk {i}\")\n",
        "    stories = df.get_chunk()['full_text'].to_list()\n",
        "    # if len(story) <= 100:\n",
        "    #   \n",
        "    # stories = stories.\n",
        "    # print(stories)\n",
        "    filtered_stories = []\n",
        "    for story in stories:\n",
        "      # length = min(len(story) //10, 100)\n",
        "      # print(\"STORY_LEN: \",len(story))\n",
        "      _total_story_len = 0\n",
        "      if type(story) != type('hello world'):\n",
        "        print(\"Unexpected value: \", story)\n",
        "        continue\n",
        "      elif len(story) <= FILTER_OUT_SHORTER_THAN: # Roughly the len of 256 tokens?\n",
        "        print(\"skipping small story of len \", len(story))\n",
        "        continue\n",
        "      else:\n",
        "        filtered_stories.append(story)\n",
        "        _total_story_len += len(story)\n",
        "    # print(len(filtered_stories))\n",
        "    if len(filtered_stories) == 0:\n",
        "      continue\n",
        "    start_time = time.time()\n",
        "    tokenized_stories = tokenizer.batch_encode_plus(filtered_stories)\n",
        "    tokenized_stories = tokenized_stories['input_ids']\n",
        "    _total_story_len = max(1, _total_story_len)\n",
        "    print(((time.time() - start_time) / _total_story_len)*100000)\n",
        "    for tokenized_story in tokenized_stories:\n",
        "      # print()\n",
        "      story_tokens = [tokenizer.bos_token_id] + tokenized_story + [tokenizer.eos_token_id] + NUM_PAD_TOKENS * [tokenizer.pad_token_id]\n",
        "\n",
        "      for _ in range(TOK_SEQS_PER_STORY):\n",
        "        token_seq = get_random_subsequence(story_tokens, SEQ_LEN)\n",
        "        all_token_seqs.append([token_seq])\n",
        "      \n",
        "    if i >= 50:\n",
        "      break\n",
        "  return all_token_seqs\n",
        "\n",
        "all_token_seqs = get_tokens_from_corpus(df, 12800)\n",
        "print(len(all_token_seqs))\n",
        "# Chunksize = 100 : 5m 50 s to do first 1000\n",
        "# Chunksize = 1 : 3m 19 s to do first 453\n",
        "# Chunksize = 10 : 3m 5 s to do first 500"
      ],
      "metadata": {
        "colab": {
          "base_uri": "https://localhost:8080/"
        },
        "id": "Pk3ZaE8WU59A",
        "outputId": "ffe3d07b-77bb-43d0-9e21-cd8883dbe2a1"
      },
      "execution_count": null,
      "outputs": [
        {
          "output_type": "stream",
          "name": "stdout",
          "text": [
            "processings chunk 0\n"
          ]
        }
      ]
    },
    {
      "cell_type": "code",
      "source": [
        "# print(all_token_seqs[0:10])\n",
        "random.shuffle(all_token_seqs)\n",
        "seqs_df = pd.DataFrame(all_token_seqs, columns=['token_seqs'])\n",
        "seqs_df.head()"
      ],
      "metadata": {
        "colab": {
          "base_uri": "https://localhost:8080/",
          "height": 218
        },
        "id": "Z2ZyqB4di92A",
        "outputId": "a9a0f4a1-f41a-4061-9854-a3a954993b63"
      },
      "execution_count": 1,
      "outputs": [
        {
          "output_type": "error",
          "ename": "NameError",
          "evalue": "ignored",
          "traceback": [
            "\u001b[0;31m---------------------------------------------------------------------------\u001b[0m",
            "\u001b[0;31mNameError\u001b[0m                                 Traceback (most recent call last)",
            "\u001b[0;32m<ipython-input-1-f257dd05a750>\u001b[0m in \u001b[0;36m<module>\u001b[0;34m\u001b[0m\n\u001b[1;32m      1\u001b[0m \u001b[0;31m# print(all_token_seqs[0:10])\u001b[0m\u001b[0;34m\u001b[0m\u001b[0;34m\u001b[0m\u001b[0;34m\u001b[0m\u001b[0m\n\u001b[0;32m----> 2\u001b[0;31m \u001b[0mrandom\u001b[0m\u001b[0;34m.\u001b[0m\u001b[0mshuffle\u001b[0m\u001b[0;34m(\u001b[0m\u001b[0mall_token_seqs\u001b[0m\u001b[0;34m)\u001b[0m\u001b[0;34m\u001b[0m\u001b[0;34m\u001b[0m\u001b[0m\n\u001b[0m\u001b[1;32m      3\u001b[0m \u001b[0mseqs_df\u001b[0m \u001b[0;34m=\u001b[0m \u001b[0mpd\u001b[0m\u001b[0;34m.\u001b[0m\u001b[0mDataFrame\u001b[0m\u001b[0;34m(\u001b[0m\u001b[0mall_token_seqs\u001b[0m\u001b[0;34m,\u001b[0m \u001b[0mcolumns\u001b[0m\u001b[0;34m=\u001b[0m\u001b[0;34m[\u001b[0m\u001b[0;34m'token_seqs'\u001b[0m\u001b[0;34m]\u001b[0m\u001b[0;34m)\u001b[0m\u001b[0;34m\u001b[0m\u001b[0;34m\u001b[0m\u001b[0m\n\u001b[1;32m      4\u001b[0m \u001b[0mseqs_df\u001b[0m\u001b[0;34m.\u001b[0m\u001b[0mhead\u001b[0m\u001b[0;34m(\u001b[0m\u001b[0;34m)\u001b[0m\u001b[0;34m\u001b[0m\u001b[0;34m\u001b[0m\u001b[0m\n",
            "\u001b[0;31mNameError\u001b[0m: name 'random' is not defined"
          ]
        }
      ]
    },
    {
      "cell_type": "code",
      "source": [
        "seqs_df.to_csv(f'{DATA_DIR}bibliotik_corpus/biblitik_22500_tokenized.gz', compression={'method': 'gzip', 'compresslevel': 2},)"
      ],
      "metadata": {
        "id": "k1KNE8srkURh"
      },
      "execution_count": 102,
      "outputs": []
    },
    {
      "cell_type": "code",
      "source": [
        "import time\n",
        "time.sleep(100)\n",
        "from google.colab import runtime\n",
        "runtime.unassign()"
      ],
      "metadata": {
        "id": "C09Js-Vr4rW_"
      },
      "execution_count": null,
      "outputs": []
    },
    {
      "cell_type": "code",
      "source": [],
      "metadata": {
        "id": "IlITDgaES43L"
      },
      "execution_count": null,
      "outputs": []
    }
  ],
  "metadata": {
    "kernelspec": {
      "display_name": "ai",
      "language": "python",
      "name": "python3"
    },
    "language_info": {
      "name": "python",
      "version": "3.9.12 (main, Apr  4 2022, 05:22:27) [MSC v.1916 64 bit (AMD64)]"
    },
    "orig_nbformat": 4,
    "vscode": {
      "interpreter": {
        "hash": "e5cdae407986fbcf9f40eb4f2caf8136385e94546bed8444298080b1cba2358b"
      }
    },
    "colab": {
      "provenance": [],
      "include_colab_link": true
    }
  },
  "nbformat": 4,
  "nbformat_minor": 0
}
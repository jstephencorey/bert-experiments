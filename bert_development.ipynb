{
  "cells": [
    {
      "cell_type": "markdown",
      "metadata": {
        "id": "zHs7LIezkLlU"
      },
      "source": [
        "This is a notebook for designing and initially testing my bert model"
      ]
    },
    {
      "cell_type": "code",
      "execution_count": 1,
      "metadata": {},
      "outputs": [
        {
          "name": "stderr",
          "output_type": "stream",
          "text": [
            "c:\\ProgramData\\Anaconda3\\envs\\ai\\lib\\site-packages\\tqdm\\auto.py:22: TqdmWarning: IProgress not found. Please update jupyter and ipywidgets. See https://ipywidgets.readthedocs.io/en/stable/user_install.html\n",
            "  from .autonotebook import tqdm as notebook_tqdm\n"
          ]
        }
      ],
      "source": [
        "import torch"
      ]
    },
    {
      "cell_type": "code",
      "execution_count": 2,
      "metadata": {
        "colab": {
          "base_uri": "https://localhost:8080/"
        },
        "id": "DekeK7gikLlZ",
        "outputId": "fc96d702-2e6e-4e83-ebe1-462581834172"
      },
      "outputs": [],
      "source": [
        "on_colab = False\n",
        "if on_colab:\n",
        "    !git clone https://github.com/jstephencorey/bert-experiments.git  bert_git # Only need to run this on colab\n",
        "    from pathlib import Path\n",
        "    import sys\n",
        "    sys.path.append(str('/content/bert_git')) #Only need on the colab\n",
        "    print(sys.path)\n",
        "    !pip install transformers --quiet"
      ]
    },
    {
      "cell_type": "code",
      "execution_count": 3,
      "metadata": {
        "colab": {
          "base_uri": "https://localhost:8080/"
        },
        "id": "zoE8zuLPkLlb",
        "outputId": "c372a63b-8e8a-4d1e-a824-be87b67ca462"
      },
      "outputs": [],
      "source": [
        "import bert"
      ]
    },
    {
      "cell_type": "code",
      "execution_count": 4,
      "metadata": {
        "id": "xKU2sOjvkLlc"
      },
      "outputs": [],
      "source": [
        "model = bert.BertModel(d_model = 512, \n",
        "                        vocab_length = 30, \n",
        "                        sequence_length = 10,\n",
        "                        num_layers = 8, \n",
        "                        feed_forward_dimensions = 1024, \n",
        "                        attention_heads = 8,\n",
        "                        attention_qkv_dims =  128, \n",
        "                        dropout = 0.1, \n",
        "                        pad_idx = 3, \n",
        "                        device = \"CPU\")"
      ]
    },
    {
      "cell_type": "code",
      "execution_count": 5,
      "metadata": {
        "colab": {
          "base_uri": "https://localhost:8080/"
        },
        "id": "CDGJ6qpllhT6",
        "outputId": "f4c1c281-5a68-4d4a-a680-dd93e10cce69"
      },
      "outputs": [
        {
          "name": "stdout",
          "output_type": "stream",
          "text": [
            "torch.Size([1, 10, 512])\n"
          ]
        }
      ],
      "source": [
        "inp = torch.LongTensor([[0,1,2,3,4,5,6,7,8,29]])\n",
        "out = model(inp)"
      ]
    },
    {
      "cell_type": "code",
      "execution_count": 6,
      "metadata": {},
      "outputs": [
        {
          "data": {
            "text/plain": [
              "tensor([[[ 0.3452,  0.6560,  0.6436,  ..., -2.1986,  0.1797,  0.5797],\n",
              "         [-2.5806, -1.1265, -1.0455,  ...,  0.4645,  0.5776,  0.4846],\n",
              "         [-0.2161, -0.5388,  0.7840,  ...,  0.2656,  0.0556,  0.5994],\n",
              "         ...,\n",
              "         [ 2.0627,  1.2775, -0.6777,  ..., -0.9581, -0.8665, -0.8502],\n",
              "         [ 0.7226,  0.8846, -0.2319,  ...,  0.9499,  0.7349,  0.9976],\n",
              "         [-1.4122,  1.3726,  0.2265,  ..., -0.3813,  0.6941,  0.8096]]],\n",
              "       grad_fn=<NativeLayerNormBackward0>)"
            ]
          },
          "execution_count": 6,
          "metadata": {},
          "output_type": "execute_result"
        }
      ],
      "source": [
        "model.embedding(inp)"
      ]
    },
    {
      "cell_type": "code",
      "execution_count": null,
      "metadata": {},
      "outputs": [],
      "source": []
    }
  ],
  "metadata": {
    "colab": {
      "provenance": []
    },
    "kernelspec": {
      "display_name": "ai",
      "language": "python",
      "name": "python3"
    },
    "language_info": {
      "codemirror_mode": {
        "name": "ipython",
        "version": 3
      },
      "file_extension": ".py",
      "mimetype": "text/x-python",
      "name": "python",
      "nbconvert_exporter": "python",
      "pygments_lexer": "ipython3",
      "version": "3.9.12"
    },
    "orig_nbformat": 4,
    "vscode": {
      "interpreter": {
        "hash": "e5cdae407986fbcf9f40eb4f2caf8136385e94546bed8444298080b1cba2358b"
      }
    }
  },
  "nbformat": 4,
  "nbformat_minor": 0
}

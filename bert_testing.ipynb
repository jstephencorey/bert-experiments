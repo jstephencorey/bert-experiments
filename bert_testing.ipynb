{
  "cells": [
    {
      "cell_type": "markdown",
      "metadata": {
        "id": "view-in-github",
        "colab_type": "text"
      },
      "source": [
        "<a href=\"https://colab.research.google.com/github/jstephencorey/bert-experiments/blob/main/bert_testing.ipynb\" target=\"_parent\"><img src=\"https://colab.research.google.com/assets/colab-badge.svg\" alt=\"Open In Colab\"/></a>"
      ]
    },
    {
      "cell_type": "code",
      "execution_count": 1,
      "metadata": {
        "colab": {
          "base_uri": "https://localhost:8080/"
        },
        "id": "z4gk4mBXNE5d",
        "outputId": "709e493d-4da7-4e1b-cac2-e262bc0725f4"
      },
      "outputs": [
        {
          "output_type": "stream",
          "name": "stdout",
          "text": [
            "Cloning into 'bert_git'...\n",
            "remote: Enumerating objects: 47, done.\u001b[K\n",
            "remote: Counting objects: 100% (47/47), done.\u001b[K\n",
            "remote: Compressing objects: 100% (45/45), done.\u001b[K\n",
            "remote: Total 47 (delta 11), reused 16 (delta 1), pack-reused 0\u001b[K\n",
            "Unpacking objects: 100% (47/47), done.\n",
            "['/content', '/env/python', '/usr/lib/python38.zip', '/usr/lib/python3.8', '/usr/lib/python3.8/lib-dynload', '', '/usr/local/lib/python3.8/dist-packages', '/usr/lib/python3/dist-packages', '/usr/local/lib/python3.8/dist-packages/IPython/extensions', '/root/.ipython', '/content/bert_git']\n",
            "\u001b[K     |████████████████████████████████| 5.8 MB 5.3 MB/s \n",
            "\u001b[K     |████████████████████████████████| 182 kB 40.0 MB/s \n",
            "\u001b[K     |████████████████████████████████| 7.6 MB 11.3 MB/s \n",
            "\u001b[K     |████████████████████████████████| 1.9 MB 4.4 MB/s \n",
            "\u001b[K     |████████████████████████████████| 174 kB 43.6 MB/s \n",
            "\u001b[K     |████████████████████████████████| 182 kB 38.8 MB/s \n",
            "\u001b[K     |████████████████████████████████| 62 kB 804 kB/s \n",
            "\u001b[K     |████████████████████████████████| 173 kB 54.2 MB/s \n",
            "\u001b[K     |████████████████████████████████| 168 kB 42.2 MB/s \n",
            "\u001b[K     |████████████████████████████████| 168 kB 40.1 MB/s \n",
            "\u001b[K     |████████████████████████████████| 166 kB 57.8 MB/s \n",
            "\u001b[K     |████████████████████████████████| 166 kB 63.7 MB/s \n",
            "\u001b[K     |████████████████████████████████| 162 kB 60.7 MB/s \n",
            "\u001b[K     |████████████████████████████████| 162 kB 29.3 MB/s \n",
            "\u001b[K     |████████████████████████████████| 158 kB 61.6 MB/s \n",
            "\u001b[K     |████████████████████████████████| 157 kB 48.3 MB/s \n",
            "\u001b[K     |████████████████████████████████| 157 kB 51.8 MB/s \n",
            "\u001b[K     |████████████████████████████████| 157 kB 52.2 MB/s \n",
            "\u001b[K     |████████████████████████████████| 157 kB 60.5 MB/s \n",
            "\u001b[K     |████████████████████████████████| 157 kB 61.7 MB/s \n",
            "\u001b[K     |████████████████████████████████| 157 kB 44.3 MB/s \n",
            "\u001b[K     |████████████████████████████████| 157 kB 55.9 MB/s \n",
            "\u001b[K     |████████████████████████████████| 156 kB 61.6 MB/s \n",
            "\u001b[?25h  Building wheel for pathtools (setup.py) ... \u001b[?25l\u001b[?25hdone\n"
          ]
        }
      ],
      "source": [
        "on_colab = True\n",
        "first_run = False # Change this when you disconnect and reconnect the runtime\n",
        "if on_colab and first_run:\n",
        "    !git clone https://github.com/jstephencorey/bert-experiments.git  bert_git # Only need to run this on colab\n",
        "    from pathlib import Path\n",
        "    import sys\n",
        "    sys.path.append(str('/content/bert_git')) #Only need on the colab\n",
        "    print(sys.path)\n",
        "    !pip install transformers --quiet\n",
        "    !pip install wandb --quiet"
      ]
    },
    {
      "cell_type": "code",
      "execution_count": 2,
      "metadata": {
        "colab": {
          "base_uri": "https://localhost:8080/",
          "height": 106
        },
        "id": "DiNtU2K1NE5i",
        "outputId": "018c7403-a418-4809-a2aa-09a036dc4138"
      },
      "outputs": [
        {
          "output_type": "stream",
          "name": "stderr",
          "text": [
            "ERROR:wandb.jupyter:Failed to detect the name of this notebook, you can set it manually with the WANDB_NOTEBOOK_NAME environment variable to enable code saving.\n"
          ]
        },
        {
          "output_type": "display_data",
          "data": {
            "text/plain": [
              "<IPython.core.display.Javascript object>"
            ],
            "application/javascript": [
              "\n",
              "        window._wandbApiKey = new Promise((resolve, reject) => {\n",
              "            function loadScript(url) {\n",
              "            return new Promise(function(resolve, reject) {\n",
              "                let newScript = document.createElement(\"script\");\n",
              "                newScript.onerror = reject;\n",
              "                newScript.onload = resolve;\n",
              "                document.body.appendChild(newScript);\n",
              "                newScript.src = url;\n",
              "            });\n",
              "            }\n",
              "            loadScript(\"https://cdn.jsdelivr.net/npm/postmate/build/postmate.min.js\").then(() => {\n",
              "            const iframe = document.createElement('iframe')\n",
              "            iframe.style.cssText = \"width:0;height:0;border:none\"\n",
              "            document.body.appendChild(iframe)\n",
              "            const handshake = new Postmate({\n",
              "                container: iframe,\n",
              "                url: 'https://wandb.ai/authorize'\n",
              "            });\n",
              "            const timeout = setTimeout(() => reject(\"Couldn't auto authenticate\"), 5000)\n",
              "            handshake.then(function(child) {\n",
              "                child.on('authorize', data => {\n",
              "                    clearTimeout(timeout)\n",
              "                    resolve(data)\n",
              "                });\n",
              "            });\n",
              "            })\n",
              "        });\n",
              "    "
            ]
          },
          "metadata": {}
        },
        {
          "output_type": "stream",
          "name": "stderr",
          "text": [
            "\u001b[34m\u001b[1mwandb\u001b[0m: Appending key for api.wandb.ai to your netrc file: /root/.netrc\n"
          ]
        },
        {
          "output_type": "execute_result",
          "data": {
            "text/plain": [
              "True"
            ]
          },
          "metadata": {},
          "execution_count": 2
        }
      ],
      "source": [
        "import torch\n",
        "from torch import nn\n",
        "import random\n",
        "from torch import optim\n",
        "import bert\n",
        "import wandb\n",
        "wandb.login()"
      ]
    },
    {
      "cell_type": "code",
      "source": [
        "from google.colab import drive\n",
        "drive.mount('/content/drive')"
      ],
      "metadata": {
        "colab": {
          "base_uri": "https://localhost:8080/"
        },
        "id": "5Tt1jGO5P25I",
        "outputId": "9c981f21-76fb-44fc-98e1-df6dfcd612c3"
      },
      "execution_count": 3,
      "outputs": [
        {
          "output_type": "stream",
          "name": "stdout",
          "text": [
            "Mounted at /content/drive\n"
          ]
        }
      ]
    },
    {
      "cell_type": "markdown",
      "source": [
        "#Import the tokenizers"
      ],
      "metadata": {
        "id": "yVJD6juiPgQm"
      }
    },
    {
      "cell_type": "code",
      "source": [
        "from transformers import AutoTokenizer"
      ],
      "metadata": {
        "id": "btlU5Is0Pr7N"
      },
      "execution_count": 4,
      "outputs": []
    },
    {
      "cell_type": "code",
      "source": [
        "DATA_DIR = '/content/drive/MyDrive/AI_Data/'\n",
        "MODEL_DIR = '/content/drive/MyDrive/AI_Models/storygpt/'\n",
        "TOKENIZER_DIR = f'{MODEL_DIR}storygpt2tokenizer_ft2/'\n",
        "\n",
        "bibliotik_train = f'{DATA_DIR}bibliotik_corpus/biblitik_22500_full.gz'\n",
        "bibliotik_val = f'{DATA_DIR}bibliotik_corpus/biblitik_7500_val.gz'\n",
        "\n",
        "atlas_shrugged_filename = f'{DATA_DIR}atlas-shrugged.txt'\n",
        "anthem_filename = f'{DATA_DIR}anthem.txt'"
      ],
      "metadata": {
        "id": "A0oATDFxPwsv"
      },
      "execution_count": 5,
      "outputs": []
    },
    {
      "cell_type": "code",
      "source": [
        "BOS_TOKEN = '<BOS>'\n",
        "EOS_TOKEN = '<EOS>'\n",
        "PAD_TOKEN = '<PAD>'\n",
        "CLS_TOKEN = '[CLS]'\n",
        "MASK_TOKEN = '[MASK]'\n",
        "\n",
        "tokenizer = AutoTokenizer.from_pretrained(TOKENIZER_DIR)\n",
        "\n",
        "special_tokens_dict = {'cls_token':CLS_TOKEN, 'bos_token': BOS_TOKEN, 'eos_token': EOS_TOKEN, 'pad_token': PAD_TOKEN, 'mask_token': MASK_TOKEN}\n",
        "num_added_toks = tokenizer.add_special_tokens(special_tokens_dict)\n",
        "VOCAB_SIZE = len(tokenizer)\n",
        "print(VOCAB_SIZE)"
      ],
      "metadata": {
        "colab": {
          "base_uri": "https://localhost:8080/"
        },
        "id": "QkS_SvWjQV7E",
        "outputId": "d5cee7d6-08ea-4e29-e00e-36693dd3a6eb"
      },
      "execution_count": 6,
      "outputs": [
        {
          "output_type": "stream",
          "name": "stdout",
          "text": [
            "52005\n"
          ]
        }
      ]
    },
    {
      "cell_type": "markdown",
      "source": [
        "##Get a dataloader"
      ],
      "metadata": {
        "id": "HVjgDbcSV-no"
      }
    },
    {
      "cell_type": "code",
      "source": [
        "#@title StoryDataLoader\n",
        "class StoryDataLoader():\n",
        " \n",
        "  def __init__(self, df_filename, tokenizer, batch_size, df_file_len, num_seqs_per_story, context_len, load_stories_at_a_time):\n",
        "    self.df_filename = df_filename\n",
        "    self.tokenizer = tokenizer\n",
        "    self.batch_size = batch_size\n",
        "    self.total_df_len = df_file_len\n",
        "    self.remaining_df_items = df_file_len\n",
        "    self.num_seqs_per_story = num_seqs_per_story\n",
        "    self.context_len = context_len\n",
        "    self.all_subsequences_from_story = []\n",
        "    self.load_stories_at_a_time = load_stories_at_a_time\n",
        "    self.DF_BUFFER = 100 + self.load_stories_at_a_time\n",
        "    self.df = self.init_df()\n",
        "    self.story_buffer = []\n",
        "\n",
        "\n",
        "  def init_df(self):\n",
        "     self.remaining_df_items = self.total_df_len\n",
        "     df = pd.read_csv(self.df_filename, \n",
        "                 index_col=0,\n",
        "                 compression={'method': 'gzip', 'compresslevel': 2}, \n",
        "                 chunksize=self.load_stories_at_a_time, \n",
        "                 iterator=True)\n",
        "     return df\n",
        "\n",
        "  def _get_random_subsequence(self, seq, subsequence_len):\n",
        "    start_index = random.randint(0, len(seq) - subsequence_len)\n",
        "    return seq[start_index:start_index + subsequence_len]\n",
        "\n",
        "  def has_next_batch(self):\n",
        "    return self.remaining_df_items > self.DF_BUFFER\n",
        "\n",
        "  def get_next_story(self):\n",
        "    if len(self.story_buffer) <= 0:\n",
        "      chunk = self.df.get_chunk()\n",
        "      for item in chunk['full_text']:\n",
        "        self.story_buffer.append(str(item))\n",
        "    return self.story_buffer.pop()\n",
        "  \n",
        "  def get_tokens(self):\n",
        "    # tokens = []\n",
        "    while True:\n",
        "      try:\n",
        "        story = self.df.get_next_story()\n",
        "        self.remaining_df_items -= 1 #self.load_stories_at_a_time\n",
        "      except:\n",
        "        self.remaining_df_items = 0\n",
        "        raise Exception(\"Next batch\")\n",
        "          \n",
        "      text = story\n",
        "      tokens = tokenizer.encode(text)\n",
        "      # tokens = torch.Tensor(tokens).to(torch.long).to(device)\n",
        "      tokens = [tokenizer.bos_token_id] + tokens + [tokenizer.eos_token_id] + self.context_len * [tokenizer.pad_token_id]\n",
        "      # print(len(tokens))\n",
        "      if len(tokens) <= self.context_len:\n",
        "        print(\"Story too short, retrying now\")\n",
        "        continue\n",
        "      else:\n",
        "        return tokens\n",
        "\n",
        "  def get_next_batch(self):\n",
        "    batch = []\n",
        "    while len(batch) < self.batch_size:\n",
        "      if len(self.all_subsequences_from_story) == 0:\n",
        "        tokens = self.get_tokens()\n",
        "        # tokens = tokens + [tokenizer.pad_token_id] * self.context_len\n",
        "        # print(tokens)\n",
        "\n",
        "        for _ in range(self.num_seqs_per_story):\n",
        "          subseq = self._get_random_subsequence(tokens, self.context_len-1)\n",
        "          subseq = [tokenizer.cls_token_id] + subseq\n",
        "          self.all_subsequences_from_story.append(subseq)\n",
        "      subseq = self.all_subsequences_from_story.pop()\n",
        "      batch.append(subseq)\n",
        "    if len(batch) > self.batch_size:\n",
        "      batch = batch[0:self.batch_size]\n",
        "    return batch\n"
      ],
      "metadata": {
        "cellView": "form",
        "id": "QPKiEBC5cOpQ"
      },
      "execution_count": null,
      "outputs": []
    },
    {
      "cell_type": "code",
      "source": [
        "#@title SingleStoryDataLoader\n",
        "class SingleStoryDataLoader():\n",
        " \n",
        "  def __init__(self, text_filename, tokenizer, batch_size, context_len):\n",
        "    self.text_filename = text_filename\n",
        "    self.tokenizer = tokenizer\n",
        "    self.batch_size = batch_size\n",
        "    self.context_len = context_len\n",
        "    self.all_text_tokens = self.get_text_tokens()\n",
        "\n",
        "\n",
        "  def get_text_tokens(self):\n",
        "    with open(self.text_filename) as text_file:\n",
        "      uncleaned_text = text_file.read()\n",
        "    tokens = tokenizer.encode(uncleaned_text)\n",
        "    tokens = [tokenizer.bos_token_id] + tokens + [tokenizer.eos_token_id] + self.context_len * [tokenizer.pad_token_id]\n",
        "    return tokens\n",
        "\n",
        "\n",
        "  def _get_random_subsequence(self, seq, subsequence_len):\n",
        "    start_index = random.randint(0, len(seq) - subsequence_len)\n",
        "    return seq[start_index:start_index + subsequence_len]\n",
        "\n",
        "  def has_next_batch(self):\n",
        "    return True\n",
        "\n",
        "  def get_next_batch(self):\n",
        "    batch = []\n",
        "    while len(batch) < self.batch_size:\n",
        "      subseq = self._get_random_subsequence(self.all_text_tokens, self.context_len-1)\n",
        "      subseq = [tokenizer.cls_token_id] + subseq\n",
        "      batch.append(subseq)\n",
        "    if len(batch) > self.batch_size:\n",
        "      batch = batch[0:self.batch_size]\n",
        "    return batch\n"
      ],
      "metadata": {
        "cellView": "form",
        "id": "orIDFqxcWCrd"
      },
      "execution_count": null,
      "outputs": []
    },
    {
      "cell_type": "code",
      "source": [
        "#@title SingleStoryBertAssistDataLoader\n",
        "class SingleStoryBertAssistDataLoader():\n",
        " \n",
        "  def __init__(self, text_filename, tokenizer, batch_size, context_len, bert_model, mask_percentage=.15):\n",
        "    self.text_filename = text_filename\n",
        "    self.tokenizer = tokenizer\n",
        "    self.batch_size = batch_size\n",
        "    self.context_len = context_len\n",
        "    self.all_text_tokens = self.get_text_tokens()\n",
        "    self.bert_model = bert_model\n",
        "    self.mask_percentage = mask_percentage\n",
        "    self.mask_token_id = self.tokenizer.mask_token_id # bert_model.tokenizer.mask_token_id\n",
        "\n",
        "  def get_text_tokens(self):\n",
        "    with open(self.text_filename) as text_file:\n",
        "      uncleaned_text = text_file.read()\n",
        "    tokens = self.tokenizer.encode(uncleaned_text)\n",
        "    tokens = tokens + self.context_len * [self.tokenizer.pad_token_id]\n",
        "    return tokens\n",
        "\n",
        "  def _get_random_subsequence(self, seq, subsequence_len):\n",
        "    start_index = random.randint(0, len(seq) - subsequence_len)\n",
        "    return seq[start_index:start_index + subsequence_len]\n",
        "\n",
        "  def _augment_subsequence(self, seq):\n",
        "    rand = torch.rand(len(seq))\n",
        "    mask_selection = rand < self.mask_percentage\n",
        "    mask_selection = torch.flatten(mask_selection.nonzero()).tolist()\n",
        "    # print(mask_selection)\n",
        "    # mask_selection = [2,4,6,8]\n",
        "    # old_ids = []\n",
        "    # print(\"Pre-change text: \",self.tokenizer.decode(seq) )\n",
        "    for idx in mask_selection:\n",
        "      # old_ids.append(seq[idx])\n",
        "      seq[idx] = self.mask_token_id\n",
        "    # text = self.tokenizer.decode(seq)\n",
        "    processed_seq = torch.Tensor([seq]).to(torch.long).to(device)\n",
        "    # print(seq)\n",
        "    # print(\"Conversion text: \",self.tokenizer.decode(seq) )\n",
        "    new_words = self.bert_model(processed_seq)\n",
        "    # print(unmasked)\n",
        "    new_words = new_words['logits'][0]\n",
        "    # print(new_words)\n",
        "    # print(seq)\n",
        "    for idx, new_word in enumerate(new_words):\n",
        "      if idx not in mask_selection:\n",
        "        continue\n",
        "      else:\n",
        "        new_word_id = torch.argmax(new_word)\n",
        "        # print(seq, new_word_id)\n",
        "        seq[idx] = int(new_word_id)\n",
        "    return seq\n",
        "\n",
        "  def has_next_batch(self):\n",
        "    return True\n",
        "\n",
        "  def get_next_batch(self):\n",
        "    batch = []\n",
        "    while len(batch) < self.batch_size:\n",
        "      subseq = self._get_random_subsequence(self.all_text_tokens, self.context_len-1)\n",
        "      subseq = self._augment_subsequence(subseq)\n",
        "      subseq = [tokenizer.cls_token_id] + subseq + 50 * [tokenizer.pad_token_id]\n",
        "      subseq = subseq[0:self.context_len]\n",
        "      batch.append(subseq)\n",
        "    if len(batch) > self.batch_size:\n",
        "      batch = batch[0:self.batch_size]\n",
        "    return batch"
      ],
      "metadata": {
        "cellView": "form",
        "id": "z9i-2DkRcE48"
      },
      "execution_count": null,
      "outputs": []
    },
    {
      "cell_type": "markdown",
      "source": [
        "#Set up the model"
      ],
      "metadata": {
        "id": "-RMatIDBPkbt"
      }
    },
    {
      "cell_type": "code",
      "execution_count": 7,
      "metadata": {
        "id": "U1Md96FKNE5k"
      },
      "outputs": [],
      "source": [
        "test_parts = True\n",
        "device= \"cuda\" if torch.cuda.is_available() else \"cpu\""
      ]
    },
    {
      "cell_type": "code",
      "source": [
        "run_number = 3\n",
        "previous_run_numbers = [0,1,2]\n",
        "if run_number in previous_run_numbers:\n",
        "  raise(Exception(\"Pick a new run number!\"))\n",
        "\n",
        "run_name = f\"bert_init_test_{run_number}\"\n",
        "\n",
        "wandb.init(project=\"bert_experiments\", \n",
        "           name=run_name,\n",
        "           )\n",
        "\n",
        "wandb.config = {\n",
        "  \"epochs\": 5,\n",
        "  \"batch_size\": None,\n",
        "  \"val_batch_size\": None,\n",
        "  \"seed\":135,\n",
        "  # Model info\n",
        "  \"d_model\":512,\n",
        "  \"vocab_length\": VOCAB_SIZE,\n",
        "  \"context_len\": 256,\n",
        "  \"num_layers\":12,\n",
        "  \"feed_forward_dimensions\":1024,\n",
        "  \"attention_heads\":12,\n",
        "  \"attention_qkv_dims\":64,\n",
        "  \"dropout\":.1,\n",
        "  \"device\":device,\n",
        "  #Training config\n",
        "  \"lr\": 1e-4,\n",
        "  # \"stories_per_epoch\": 5000,\n",
        "  \"save_model\": None,\n",
        "  \"bert_mask_percentage\": None,\n",
        "}\n",
        "\n",
        "config = wandb.config\n",
        "\n",
        "random.seed(config['seed'])\n",
        "torch.random.manual_seed(config['seed'])\n",
        "\n",
        "print(config)"
      ],
      "metadata": {
        "colab": {
          "base_uri": "https://localhost:8080/",
          "height": 275,
          "referenced_widgets": [
            "fd21274ca9b8454e9c64e7d7e539bd7b",
            "2bfd9c83f25944db95171949e260cfcc",
            "6197712b3fd241b789e5e34d9de961f7",
            "bb06fd7732114041b9ade013178534ae",
            "4a34cbbe663d41a4aaa13e87fc5ce67e",
            "4fe052a82fab4a91836a0bf55a009ac8",
            "5fd329d1ab224e18bfc9108ff8c1fe0d",
            "e0a0af8a55e84f75873eb3163614cd1f"
          ]
        },
        "id": "bwMqSlE8OSgj",
        "outputId": "c5e0132f-f2ab-4809-baba-5b1925e960b0"
      },
      "execution_count": 15,
      "outputs": [
        {
          "output_type": "display_data",
          "data": {
            "text/plain": [
              "<IPython.core.display.HTML object>"
            ],
            "text/html": [
              "Finishing last run (ID:39d8l0rq) before initializing another..."
            ]
          },
          "metadata": {}
        },
        {
          "output_type": "display_data",
          "data": {
            "text/plain": [
              "<IPython.core.display.HTML object>"
            ],
            "text/html": [
              "Waiting for W&B process to finish... <strong style=\"color:green\">(success).</strong>"
            ]
          },
          "metadata": {}
        },
        {
          "output_type": "display_data",
          "data": {
            "text/plain": [
              "VBox(children=(Label(value='0.001 MB of 0.001 MB uploaded (0.000 MB deduped)\\r'), FloatProgress(value=1.0, max…"
            ],
            "application/vnd.jupyter.widget-view+json": {
              "version_major": 2,
              "version_minor": 0,
              "model_id": "fd21274ca9b8454e9c64e7d7e539bd7b"
            }
          },
          "metadata": {}
        },
        {
          "output_type": "display_data",
          "data": {
            "text/plain": [
              "<IPython.core.display.HTML object>"
            ],
            "text/html": [
              "Synced <strong style=\"color:#cdcd00\">bert_init_test_3</strong>: <a href=\"https://wandb.ai/sintez/bert_experiments/runs/39d8l0rq\" target=\"_blank\">https://wandb.ai/sintez/bert_experiments/runs/39d8l0rq</a><br/>Synced 5 W&B file(s), 0 media file(s), 0 artifact file(s) and 0 other file(s)"
            ]
          },
          "metadata": {}
        },
        {
          "output_type": "display_data",
          "data": {
            "text/plain": [
              "<IPython.core.display.HTML object>"
            ],
            "text/html": [
              "Find logs at: <code>./wandb/run-20221229_002145-39d8l0rq/logs</code>"
            ]
          },
          "metadata": {}
        },
        {
          "output_type": "display_data",
          "data": {
            "text/plain": [
              "<IPython.core.display.HTML object>"
            ],
            "text/html": [
              "Successfully finished last run (ID:39d8l0rq). Initializing new run:<br/>"
            ]
          },
          "metadata": {}
        },
        {
          "output_type": "display_data",
          "data": {
            "text/plain": [
              "<IPython.core.display.HTML object>"
            ],
            "text/html": [
              "Tracking run with wandb version 0.13.7"
            ]
          },
          "metadata": {}
        },
        {
          "output_type": "display_data",
          "data": {
            "text/plain": [
              "<IPython.core.display.HTML object>"
            ],
            "text/html": [
              "Run data is saved locally in <code>/content/wandb/run-20221229_002229-3htm1hxo</code>"
            ]
          },
          "metadata": {}
        },
        {
          "output_type": "display_data",
          "data": {
            "text/plain": [
              "<IPython.core.display.HTML object>"
            ],
            "text/html": [
              "Syncing run <strong><a href=\"https://wandb.ai/sintez/bert_experiments/runs/3htm1hxo\" target=\"_blank\">bert_init_test_3</a></strong> to <a href=\"https://wandb.ai/sintez/bert_experiments\" target=\"_blank\">Weights & Biases</a> (<a href=\"https://wandb.me/run\" target=\"_blank\">docs</a>)<br/>"
            ]
          },
          "metadata": {}
        },
        {
          "output_type": "stream",
          "name": "stdout",
          "text": [
            "{'epochs': 5, 'batch_size': None, 'val_batch_size': None, 'seed': 135, 'd_model': 512, 'vocab_length': 52005, 'context_len': 256, 'num_layers': 12, 'feed_forward_dimensions': 1024, 'attention_heads': 12, 'attention_qkv_dims': 64, 'dropout': 0.1, 'device': 'cpu', 'lr': 0.0001, 'save_model': None, 'bert_mask_percentage': None}\n"
          ]
        }
      ]
    },
    {
      "cell_type": "code",
      "execution_count": 16,
      "metadata": {
        "id": "h4zywtNaNE5k"
      },
      "outputs": [],
      "source": [
        "model = bert.BertModel(d_model = config[\"d_model\"], \n",
        "                        vocab_length = config[\"vocab_length\"], \n",
        "                        sequence_length = config['context_len'],\n",
        "                        num_layers = config[\"num_layers\"], \n",
        "                        feed_forward_dimensions = config[\"feed_forward_dimensions\"], \n",
        "                        attention_heads = config[\"attention_heads\"],\n",
        "                        attention_qkv_dims =  config[\"attention_qkv_dims\"], \n",
        "                        dropout = config[\"dropout\"], \n",
        "                        pad_idx = tokenizer.pad_token_id, \n",
        "                        device = config[\"device\"])"
      ]
    },
    {
      "cell_type": "code",
      "execution_count": 17,
      "metadata": {
        "colab": {
          "base_uri": "https://localhost:8080/"
        },
        "id": "H5JHO_adNE5l",
        "outputId": "98124be6-17a1-4d12-bb92-b7eaffd1c598"
      },
      "outputs": [
        {
          "output_type": "stream",
          "name": "stdout",
          "text": [
            "torch.Size([2, 10, 52005])\n"
          ]
        }
      ],
      "source": [
        "if test_parts:\n",
        "    inp = torch.LongTensor([[0,1,2,3,4,5,6,7,8,29],[1,3,4,5,6,8,0,22,1,1]])\n",
        "    out = model(inp)\n",
        "    print(out.size())"
      ]
    },
    {
      "cell_type": "code",
      "execution_count": 18,
      "metadata": {
        "id": "DLzZemWbNE5l"
      },
      "outputs": [],
      "source": [
        "criterion = nn.CrossEntropyLoss()\n",
        "optimizer = optim.Adam(model.parameters(), lr=0.001)"
      ]
    },
    {
      "cell_type": "code",
      "execution_count": 19,
      "metadata": {
        "colab": {
          "base_uri": "https://localhost:8080/"
        },
        "id": "eVXP07moNE5m",
        "outputId": "d453b9ea-ca1f-4f8a-fe6b-f9dd3969b7e3"
      },
      "outputs": [
        {
          "output_type": "stream",
          "name": "stdout",
          "text": [
            "torch.Size([2, 10])\n",
            "torch.Size([2, 10, 52005]) torch.Size([2, 10])\n",
            "torch.Size([2, 10, 52005]) torch.Size([2, 10])\n",
            "torch.Size([2, 10, 52005]) torch.Size([2, 10])\n",
            "torch.Size([2, 10, 52005]) torch.Size([2, 10])\n",
            "torch.Size([2, 10, 52005]) torch.Size([2, 10])\n"
          ]
        }
      ],
      "source": [
        "batch = torch.LongTensor([[0,1,2,3,4,5,6,7,8,29],[1,3,4,5,6,8,0,22,1,1]])\n",
        "print(batch.size())\n",
        "# input_ids, segment_ids, masked_tokens, masked_pos, isNext = map(torch.LongTensor, zip(*batch))\n",
        "\n",
        "for epoch in range(config[\"epochs\"]):\n",
        "    optimizer.zero_grad()\n",
        "    logits_lm = model(batch)\n",
        "    print(logits_lm.size(), batch.size())\n",
        "    loss_lm = criterion(logits_lm.transpose(1, 2), batch) # for masked LM\n",
        "    loss_lm = (loss_lm.float()).mean()\n",
        "    # loss_clsf = criterion(logits_clsf, isNext) # for sentence classification\n",
        "    loss = loss_lm #+ loss_clsf\n",
        "    if (epoch + 1) % 10 == 0:\n",
        "        print('Epoch:', '%04d' % (epoch + 1), 'loss =', '{:.6f}'.format(loss))\n",
        "    loss.backward()\n",
        "    optimizer.step()\n",
        "\n",
        "# # Predict mask tokens\n",
        "# input_ids, segment_ids, masked_tokens, masked_pos, isNext = map(torch.LongTensor, zip(batch[0]))\n",
        "# print(text)\n",
        "# print([number_dict[w.item()] for w in input_ids[0] if number_dict[w.item()] != '[PAD]'])\n",
        "\n",
        "# logits_lm, logits_clsf = model(input_ids, segment_ids, masked_pos)\n",
        "# logits_lm = logits_lm.data.max(2)[1][0].data.numpy()\n",
        "# print('masked tokens list : ',[pos.item() for pos in masked_tokens[0] if pos.item() != 0])\n",
        "# print('predict masked tokens list : ',[pos for pos in logits_lm if pos != 0])\n",
        "\n",
        "# logits_clsf = logits_clsf.data.max(1)[1].data.numpy()[0]\n",
        "# print('isNext : ', True if isNext else False)\n",
        "# print('predict isNext : ',True if logits_clsf else False)"
      ]
    },
    {
      "cell_type": "code",
      "execution_count": null,
      "metadata": {
        "id": "b-23iqZnNE5n"
      },
      "outputs": [],
      "source": []
    }
  ],
  "metadata": {
    "kernelspec": {
      "display_name": "ai",
      "language": "python",
      "name": "python3"
    },
    "language_info": {
      "codemirror_mode": {
        "name": "ipython",
        "version": 3
      },
      "file_extension": ".py",
      "mimetype": "text/x-python",
      "name": "python",
      "nbconvert_exporter": "python",
      "pygments_lexer": "ipython3",
      "version": "3.9.12"
    },
    "orig_nbformat": 4,
    "vscode": {
      "interpreter": {
        "hash": "e5cdae407986fbcf9f40eb4f2caf8136385e94546bed8444298080b1cba2358b"
      }
    },
    "colab": {
      "provenance": [],
      "include_colab_link": true
    },
    "widgets": {
      "application/vnd.jupyter.widget-state+json": {
        "fd21274ca9b8454e9c64e7d7e539bd7b": {
          "model_module": "@jupyter-widgets/controls",
          "model_name": "VBoxModel",
          "model_module_version": "1.5.0",
          "state": {
            "_dom_classes": [],
            "_model_module": "@jupyter-widgets/controls",
            "_model_module_version": "1.5.0",
            "_model_name": "VBoxModel",
            "_view_count": null,
            "_view_module": "@jupyter-widgets/controls",
            "_view_module_version": "1.5.0",
            "_view_name": "VBoxView",
            "box_style": "",
            "children": [
              "IPY_MODEL_2bfd9c83f25944db95171949e260cfcc",
              "IPY_MODEL_6197712b3fd241b789e5e34d9de961f7"
            ],
            "layout": "IPY_MODEL_bb06fd7732114041b9ade013178534ae"
          }
        },
        "2bfd9c83f25944db95171949e260cfcc": {
          "model_module": "@jupyter-widgets/controls",
          "model_name": "LabelModel",
          "model_module_version": "1.5.0",
          "state": {
            "_dom_classes": [],
            "_model_module": "@jupyter-widgets/controls",
            "_model_module_version": "1.5.0",
            "_model_name": "LabelModel",
            "_view_count": null,
            "_view_module": "@jupyter-widgets/controls",
            "_view_module_version": "1.5.0",
            "_view_name": "LabelView",
            "description": "",
            "description_tooltip": null,
            "layout": "IPY_MODEL_4a34cbbe663d41a4aaa13e87fc5ce67e",
            "placeholder": "​",
            "style": "IPY_MODEL_4fe052a82fab4a91836a0bf55a009ac8",
            "value": "0.001 MB of 0.001 MB uploaded (0.000 MB deduped)\r"
          }
        },
        "6197712b3fd241b789e5e34d9de961f7": {
          "model_module": "@jupyter-widgets/controls",
          "model_name": "FloatProgressModel",
          "model_module_version": "1.5.0",
          "state": {
            "_dom_classes": [],
            "_model_module": "@jupyter-widgets/controls",
            "_model_module_version": "1.5.0",
            "_model_name": "FloatProgressModel",
            "_view_count": null,
            "_view_module": "@jupyter-widgets/controls",
            "_view_module_version": "1.5.0",
            "_view_name": "ProgressView",
            "bar_style": "",
            "description": "",
            "description_tooltip": null,
            "layout": "IPY_MODEL_5fd329d1ab224e18bfc9108ff8c1fe0d",
            "max": 1,
            "min": 0,
            "orientation": "horizontal",
            "style": "IPY_MODEL_e0a0af8a55e84f75873eb3163614cd1f",
            "value": 1
          }
        },
        "bb06fd7732114041b9ade013178534ae": {
          "model_module": "@jupyter-widgets/base",
          "model_name": "LayoutModel",
          "model_module_version": "1.2.0",
          "state": {
            "_model_module": "@jupyter-widgets/base",
            "_model_module_version": "1.2.0",
            "_model_name": "LayoutModel",
            "_view_count": null,
            "_view_module": "@jupyter-widgets/base",
            "_view_module_version": "1.2.0",
            "_view_name": "LayoutView",
            "align_content": null,
            "align_items": null,
            "align_self": null,
            "border": null,
            "bottom": null,
            "display": null,
            "flex": null,
            "flex_flow": null,
            "grid_area": null,
            "grid_auto_columns": null,
            "grid_auto_flow": null,
            "grid_auto_rows": null,
            "grid_column": null,
            "grid_gap": null,
            "grid_row": null,
            "grid_template_areas": null,
            "grid_template_columns": null,
            "grid_template_rows": null,
            "height": null,
            "justify_content": null,
            "justify_items": null,
            "left": null,
            "margin": null,
            "max_height": null,
            "max_width": null,
            "min_height": null,
            "min_width": null,
            "object_fit": null,
            "object_position": null,
            "order": null,
            "overflow": null,
            "overflow_x": null,
            "overflow_y": null,
            "padding": null,
            "right": null,
            "top": null,
            "visibility": null,
            "width": null
          }
        },
        "4a34cbbe663d41a4aaa13e87fc5ce67e": {
          "model_module": "@jupyter-widgets/base",
          "model_name": "LayoutModel",
          "model_module_version": "1.2.0",
          "state": {
            "_model_module": "@jupyter-widgets/base",
            "_model_module_version": "1.2.0",
            "_model_name": "LayoutModel",
            "_view_count": null,
            "_view_module": "@jupyter-widgets/base",
            "_view_module_version": "1.2.0",
            "_view_name": "LayoutView",
            "align_content": null,
            "align_items": null,
            "align_self": null,
            "border": null,
            "bottom": null,
            "display": null,
            "flex": null,
            "flex_flow": null,
            "grid_area": null,
            "grid_auto_columns": null,
            "grid_auto_flow": null,
            "grid_auto_rows": null,
            "grid_column": null,
            "grid_gap": null,
            "grid_row": null,
            "grid_template_areas": null,
            "grid_template_columns": null,
            "grid_template_rows": null,
            "height": null,
            "justify_content": null,
            "justify_items": null,
            "left": null,
            "margin": null,
            "max_height": null,
            "max_width": null,
            "min_height": null,
            "min_width": null,
            "object_fit": null,
            "object_position": null,
            "order": null,
            "overflow": null,
            "overflow_x": null,
            "overflow_y": null,
            "padding": null,
            "right": null,
            "top": null,
            "visibility": null,
            "width": null
          }
        },
        "4fe052a82fab4a91836a0bf55a009ac8": {
          "model_module": "@jupyter-widgets/controls",
          "model_name": "DescriptionStyleModel",
          "model_module_version": "1.5.0",
          "state": {
            "_model_module": "@jupyter-widgets/controls",
            "_model_module_version": "1.5.0",
            "_model_name": "DescriptionStyleModel",
            "_view_count": null,
            "_view_module": "@jupyter-widgets/base",
            "_view_module_version": "1.2.0",
            "_view_name": "StyleView",
            "description_width": ""
          }
        },
        "5fd329d1ab224e18bfc9108ff8c1fe0d": {
          "model_module": "@jupyter-widgets/base",
          "model_name": "LayoutModel",
          "model_module_version": "1.2.0",
          "state": {
            "_model_module": "@jupyter-widgets/base",
            "_model_module_version": "1.2.0",
            "_model_name": "LayoutModel",
            "_view_count": null,
            "_view_module": "@jupyter-widgets/base",
            "_view_module_version": "1.2.0",
            "_view_name": "LayoutView",
            "align_content": null,
            "align_items": null,
            "align_self": null,
            "border": null,
            "bottom": null,
            "display": null,
            "flex": null,
            "flex_flow": null,
            "grid_area": null,
            "grid_auto_columns": null,
            "grid_auto_flow": null,
            "grid_auto_rows": null,
            "grid_column": null,
            "grid_gap": null,
            "grid_row": null,
            "grid_template_areas": null,
            "grid_template_columns": null,
            "grid_template_rows": null,
            "height": null,
            "justify_content": null,
            "justify_items": null,
            "left": null,
            "margin": null,
            "max_height": null,
            "max_width": null,
            "min_height": null,
            "min_width": null,
            "object_fit": null,
            "object_position": null,
            "order": null,
            "overflow": null,
            "overflow_x": null,
            "overflow_y": null,
            "padding": null,
            "right": null,
            "top": null,
            "visibility": null,
            "width": null
          }
        },
        "e0a0af8a55e84f75873eb3163614cd1f": {
          "model_module": "@jupyter-widgets/controls",
          "model_name": "ProgressStyleModel",
          "model_module_version": "1.5.0",
          "state": {
            "_model_module": "@jupyter-widgets/controls",
            "_model_module_version": "1.5.0",
            "_model_name": "ProgressStyleModel",
            "_view_count": null,
            "_view_module": "@jupyter-widgets/base",
            "_view_module_version": "1.2.0",
            "_view_name": "StyleView",
            "bar_color": null,
            "description_width": ""
          }
        }
      }
    }
  },
  "nbformat": 4,
  "nbformat_minor": 0
}
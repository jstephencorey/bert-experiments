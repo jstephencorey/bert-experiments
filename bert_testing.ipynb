{
 "cells": [
  {
   "cell_type": "code",
   "execution_count": 1,
   "metadata": {},
   "outputs": [],
   "source": [
    "on_colab = False\n",
    "if on_colab:\n",
    "    !git clone https://github.com/jstephencorey/bert-experiments.git  bert_git # Only need to run this on colab\n",
    "    from pathlib import Path\n",
    "    import sys\n",
    "    sys.path.append(str('/content/bert_git')) #Only need on the colab\n",
    "    print(sys.path)\n",
    "    !pip install transformers --quiet"
   ]
  },
  {
   "cell_type": "code",
   "execution_count": 2,
   "metadata": {},
   "outputs": [
    {
     "name": "stderr",
     "output_type": "stream",
     "text": [
      "c:\\ProgramData\\Anaconda3\\envs\\ai\\lib\\site-packages\\tqdm\\auto.py:22: TqdmWarning: IProgress not found. Please update jupyter and ipywidgets. See https://ipywidgets.readthedocs.io/en/stable/user_install.html\n",
      "  from .autonotebook import tqdm as notebook_tqdm\n"
     ]
    }
   ],
   "source": [
    "import torch\n",
    "from torch import nn\n",
    "from torch import optim\n",
    "import bert"
   ]
  },
  {
   "cell_type": "code",
   "execution_count": 3,
   "metadata": {},
   "outputs": [],
   "source": [
    "test_parts = True"
   ]
  },
  {
   "cell_type": "code",
   "execution_count": 4,
   "metadata": {},
   "outputs": [],
   "source": [
    "model = bert.BertModel(d_model = 512, \n",
    "                        vocab_length = 30, \n",
    "                        sequence_length = 10,\n",
    "                        num_layers = 8, \n",
    "                        feed_forward_dimensions = 1024, \n",
    "                        attention_heads = 8,\n",
    "                        attention_qkv_dims =  128, \n",
    "                        dropout = 0.1, \n",
    "                        pad_idx = 3, \n",
    "                        device = \"CPU\")"
   ]
  },
  {
   "cell_type": "code",
   "execution_count": 5,
   "metadata": {},
   "outputs": [
    {
     "name": "stdout",
     "output_type": "stream",
     "text": [
      "torch.Size([2, 10, 30])\n"
     ]
    }
   ],
   "source": [
    "if test_parts:\n",
    "    inp = torch.LongTensor([[0,1,2,3,4,5,6,7,8,29],[1,3,4,5,6,8,0,22,1,1]])\n",
    "    out = model(inp)\n",
    "    print(out.size())"
   ]
  },
  {
   "cell_type": "code",
   "execution_count": 6,
   "metadata": {},
   "outputs": [],
   "source": [
    "criterion = nn.CrossEntropyLoss()\n",
    "optimizer = optim.Adam(model.parameters(), lr=0.001)"
   ]
  },
  {
   "cell_type": "code",
   "execution_count": 8,
   "metadata": {},
   "outputs": [
    {
     "name": "stdout",
     "output_type": "stream",
     "text": [
      "torch.Size([2, 10])\n",
      "torch.Size([2, 10, 30]) torch.Size([2, 10])\n",
      "torch.Size([2, 10, 30]) torch.Size([2, 10])\n",
      "torch.Size([2, 10, 30]) torch.Size([2, 10])\n",
      "torch.Size([2, 10, 30]) torch.Size([2, 10])\n",
      "torch.Size([2, 10, 30]) torch.Size([2, 10])\n",
      "torch.Size([2, 10, 30]) torch.Size([2, 10])\n",
      "torch.Size([2, 10, 30]) torch.Size([2, 10])\n",
      "torch.Size([2, 10, 30]) torch.Size([2, 10])\n",
      "torch.Size([2, 10, 30]) torch.Size([2, 10])\n",
      "torch.Size([2, 10, 30]) torch.Size([2, 10])\n",
      "Epoch: 0010 cost = 53.527332\n"
     ]
    }
   ],
   "source": [
    "batch = torch.LongTensor([[0,1,2,3,4,5,6,7,8,29],[1,3,4,5,6,8,0,22,1,1]])\n",
    "print(batch.size())\n",
    "# input_ids, segment_ids, masked_tokens, masked_pos, isNext = map(torch.LongTensor, zip(*batch))\n",
    "\n",
    "for epoch in range(10):\n",
    "    optimizer.zero_grad()\n",
    "    logits_lm = model(batch)\n",
    "    print(logits_lm.size(), batch.size())\n",
    "    loss_lm = criterion(logits_lm.transpose(1, 2), batch) # for masked LM\n",
    "    loss_lm = (loss_lm.float()).mean()\n",
    "    # loss_clsf = criterion(logits_clsf, isNext) # for sentence classification\n",
    "    loss = loss_lm #+ loss_clsf\n",
    "    if (epoch + 1) % 10 == 0:\n",
    "        print('Epoch:', '%04d' % (epoch + 1), 'loss =', '{:.6f}'.format(loss))\n",
    "    loss.backward()\n",
    "    optimizer.step()\n",
    "\n",
    "# # Predict mask tokens\n",
    "# input_ids, segment_ids, masked_tokens, masked_pos, isNext = map(torch.LongTensor, zip(batch[0]))\n",
    "# print(text)\n",
    "# print([number_dict[w.item()] for w in input_ids[0] if number_dict[w.item()] != '[PAD]'])\n",
    "\n",
    "# logits_lm, logits_clsf = model(input_ids, segment_ids, masked_pos)\n",
    "# logits_lm = logits_lm.data.max(2)[1][0].data.numpy()\n",
    "# print('masked tokens list : ',[pos.item() for pos in masked_tokens[0] if pos.item() != 0])\n",
    "# print('predict masked tokens list : ',[pos for pos in logits_lm if pos != 0])\n",
    "\n",
    "# logits_clsf = logits_clsf.data.max(1)[1].data.numpy()[0]\n",
    "# print('isNext : ', True if isNext else False)\n",
    "# print('predict isNext : ',True if logits_clsf else False)"
   ]
  },
  {
   "cell_type": "code",
   "execution_count": null,
   "metadata": {},
   "outputs": [],
   "source": []
  }
 ],
 "metadata": {
  "kernelspec": {
   "display_name": "ai",
   "language": "python",
   "name": "python3"
  },
  "language_info": {
   "codemirror_mode": {
    "name": "ipython",
    "version": 3
   },
   "file_extension": ".py",
   "mimetype": "text/x-python",
   "name": "python",
   "nbconvert_exporter": "python",
   "pygments_lexer": "ipython3",
   "version": "3.9.12"
  },
  "orig_nbformat": 4,
  "vscode": {
   "interpreter": {
    "hash": "e5cdae407986fbcf9f40eb4f2caf8136385e94546bed8444298080b1cba2358b"
   }
  }
 },
 "nbformat": 4,
 "nbformat_minor": 2
}
